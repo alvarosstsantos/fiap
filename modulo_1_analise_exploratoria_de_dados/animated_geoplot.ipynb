{
  "nbformat": 4,
  "nbformat_minor": 0,
  "metadata": {
    "colab": {
      "private_outputs": true,
      "provenance": [],
      "authorship_tag": "ABX9TyOF/Yjy9IdECb9qI9Aihhwc",
      "include_colab_link": true
    },
    "kernelspec": {
      "name": "python3",
      "display_name": "Python 3"
    },
    "language_info": {
      "name": "python"
    }
  },
  "cells": [
    {
      "cell_type": "markdown",
      "metadata": {
        "id": "view-in-github",
        "colab_type": "text"
      },
      "source": [
        "<a href=\"https://colab.research.google.com/github/alvarosstsantos/fiap/blob/main/modulo_1_analise_exploratoria_de_dados/animated_geoplot.ipynb\" target=\"_parent\"><img src=\"https://colab.research.google.com/assets/colab-badge.svg\" alt=\"Open In Colab\"/></a>"
      ]
    },
    {
      "cell_type": "code",
      "execution_count": null,
      "metadata": {
        "id": "ctrhyq-b9czr"
      },
      "outputs": [],
      "source": [
        "!git clone https://github.com/alvarosstsantos/fiap.git"
      ]
    },
    {
      "cell_type": "code",
      "source": [
        "!pip install pycountry\n",
        "!pip install mapclassify\n",
        "!pip install geoplot"
      ],
      "metadata": {
        "id": "y9juTU8Z6TAk"
      },
      "execution_count": null,
      "outputs": []
    },
    {
      "cell_type": "code",
      "source": [
        "import pandas as pd\n",
        "import pycountry\n",
        "import matplotlib.pyplot as plt\n",
        "import geopandas\n",
        "import time\n",
        "from IPython import display"
      ],
      "metadata": {
        "id": "z1O1_voV5w0j"
      },
      "execution_count": null,
      "outputs": []
    },
    {
      "cell_type": "code",
      "source": [
        "df = pd.read_csv(\"/content/fiap/modulo_1_analise_exploratoria_de_dados/datasets/EXP_2000_2023_20230831.csv\", sep=\";\", decimal=\",\", thousands=\".\")"
      ],
      "metadata": {
        "id": "tLJ77UPL6RJD"
      },
      "execution_count": null,
      "outputs": []
    },
    {
      "cell_type": "code",
      "source": [
        "df_filtered = df[[\"Country\", \"Year\", \"Net Weight\", \"US$ FOB\"]].groupby([\"Year\",\"Country\"], as_index=False).agg({\"Net Weight\": \"sum\", \"US$ FOB\": \"sum\"})"
      ],
      "metadata": {
        "id": "wq1S5h9G6mFh"
      },
      "execution_count": null,
      "outputs": []
    },
    {
      "cell_type": "code",
      "source": [
        "mismatched_countries = {\n",
        "    \"Netherlands Antilles\": \"ANT\",\n",
        "    \"Russia\": \"RUS\",\n",
        "    \"Cape Verde\": \"CPV\",\n",
        "    \"Democratic Republic of the Congo\":\"COD\",\n",
        "    \"São Tome and Principe\":\"STP\",\n",
        "    \"Bahrein\": \"BHR\",\n",
        "    \"Iran\": \"IRN\",\n",
        "    \"Dominica Island\": \"DMA\",\n",
        "    \"French Guyana\": \"GUF\",\n",
        "    \"Saint Vicent and the Granadines\": \"VCT\",\n",
        "    \"Swaziland\": \"SWZ\",\n",
        "    \"Saint Christopher and Nevis\": \"KNA\"\n",
        "}"
      ],
      "metadata": {
        "id": "bJROFfpkKdBH"
      },
      "execution_count": null,
      "outputs": []
    },
    {
      "cell_type": "code",
      "source": [
        "def alpha3code(col):\n",
        "    cc=[]\n",
        "    for c in col:\n",
        "        code = None\n",
        "        for l in (\n",
        "            lambda c: pycountry.countries.get(name=c).alpha_3,\n",
        "            lambda c: pycountry.countries.get(common_name=c).alpha_3,\n",
        "            lambda c: pycountry.countries.get(official_name=c).alpha_3,\n",
        "            lambda c: mismatched_countries[c]\n",
        "        ):\n",
        "            try:\n",
        "                code = l(c)\n",
        "            except:\n",
        "                continue\n",
        "            cc.append(code)\n",
        "            break\n",
        "    return cc"
      ],
      "metadata": {
        "id": "_GItnQeq7p7e"
      },
      "execution_count": null,
      "outputs": []
    },
    {
      "cell_type": "code",
      "source": [
        "df_filtered[\"ISO 3166-1 Country Code\"] = alpha3code(df_filtered[\"Country\"])"
      ],
      "metadata": {
        "id": "T4VOTFui7sEl"
      },
      "execution_count": null,
      "outputs": []
    },
    {
      "cell_type": "code",
      "source": [
        "world = geopandas.read_file(geopandas.datasets.get_path('naturalearth_lowres'))[[\"iso_a3\", \"continent\", \"geometry\"]]\n",
        "world.columns = [\"ISO 3166-1 Country Code\", \"Continent\", \"Geometry\"]\n",
        "world.set_geometry(\"Geometry\", inplace=True)\n",
        "merge = pd.merge(world, df_filtered, on=\"ISO 3166-1 Country Code\")\n",
        "merge_ordered = merge.sort_values(by=\"Year\")"
      ],
      "metadata": {
        "id": "xl4QA1S5OEMt"
      },
      "execution_count": null,
      "outputs": []
    },
    {
      "cell_type": "code",
      "source": [
        "plt.style.use('dark_background')\n",
        "fig, ax = plt.subplots(figsize=(10, 10))\n",
        "\n",
        "for y in merge_ordered[\"Year\"].unique():\n",
        "    world.plot(ax=ax, color=\"dimgrey\",)\n",
        "    merge_ordered[merge_ordered[\"Year\"] == y].plot(\n",
        "        ax = ax,\n",
        "        column=\"Net Weight\",\n",
        "        cmap=\"Reds\",\n",
        "        scheme=\"quantiles\",\n",
        "        legend=True,\n",
        "        legend_kwds={'loc': 'lower left'})\n",
        "\n",
        "    plt.title(\"Net Weight - \" + str(y), fontsize=12)\n",
        "\n",
        "    ax.set_yticklabels([])\n",
        "    ax.set_xticklabels([])\n",
        "    ax.set_xticks([])\n",
        "    ax.set_yticks([])\n",
        "\n",
        "    display.display(plt.gcf())\n",
        "    display.clear_output(wait=True)\n",
        "\n",
        "    time.sleep(1)"
      ],
      "metadata": {
        "id": "e75LvL3QOtNc"
      },
      "execution_count": null,
      "outputs": []
    },
    {
      "cell_type": "code",
      "source": [],
      "metadata": {
        "id": "OpPr1NHNafX2"
      },
      "execution_count": null,
      "outputs": []
    }
  ]
}