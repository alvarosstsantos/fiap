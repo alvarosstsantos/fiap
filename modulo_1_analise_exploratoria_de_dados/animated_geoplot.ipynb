{
  "cells": [
    {
      "cell_type": "code",
      "execution_count": null,
      "metadata": {
        "id": "z1O1_voV5w0j"
      },
      "outputs": [],
      "source": [
        "import matplotlib.pyplot as plt\n",
        "import pandas as pd\n",
        "import pycountry\n",
        "import geopandas\n",
        "import time\n",
        "from IPython import display"
      ]
    },
    {
      "cell_type": "code",
      "execution_count": null,
      "metadata": {
        "id": "tLJ77UPL6RJD"
      },
      "outputs": [],
      "source": [
        "df = pd.read_csv(\"./datasets/EXP_2000_2023_20230831.csv\",\n",
        "                 sep=\";\", decimal=\",\", thousands=\".\")"
      ]
    },
    {
      "cell_type": "code",
      "execution_count": null,
      "metadata": {
        "id": "wq1S5h9G6mFh"
      },
      "outputs": [],
      "source": [
        "df_filtered = (df[[\"Country\", \"Year\", \"Net Weight\", \"US$ FOB\"]]\n",
        "               .groupby([\"Year\",\"Country\"], as_index=False)\n",
        "               .agg({\"Net Weight\": \"sum\", \"US$ FOB\": \"sum\"}))"
      ]
    },
    {
      "cell_type": "code",
      "execution_count": null,
      "metadata": {
        "id": "bJROFfpkKdBH"
      },
      "outputs": [],
      "source": [
        "mismatched_countries = {\n",
        "    \"Netherlands Antilles\": \"ANT\",\n",
        "    \"Russia\": \"RUS\",\n",
        "    \"Cape Verde\": \"CPV\",\n",
        "    \"Democratic Republic of the Congo\":\"COD\",\n",
        "    \"São Tome and Principe\":\"STP\",\n",
        "    \"Bahrein\": \"BHR\",\n",
        "    \"Iran\": \"IRN\",\n",
        "    \"Dominica Island\": \"DMA\",\n",
        "    \"French Guyana\": \"GUF\",\n",
        "    \"Saint Vicent and the Granadines\": \"VCT\",\n",
        "    \"Swaziland\": \"SWZ\",\n",
        "    \"Saint Christopher and Nevis\": \"KNA\"\n",
        "}"
      ]
    },
    {
      "cell_type": "code",
      "execution_count": null,
      "metadata": {
        "id": "_GItnQeq7p7e"
      },
      "outputs": [],
      "source": [
        "def alpha3code(col):\n",
        "    cc=[]\n",
        "    for c in col:\n",
        "        code = None\n",
        "        for l in (\n",
        "            lambda c: pycountry.countries.get(name=c).alpha_3,\n",
        "            lambda c: pycountry.countries.get(common_name=c).alpha_3,\n",
        "            lambda c: pycountry.countries.get(official_name=c).alpha_3,\n",
        "            lambda c: mismatched_countries[c]\n",
        "        ):\n",
        "            try:\n",
        "                code = l(c)\n",
        "            except:\n",
        "                continue\n",
        "            cc.append(code)\n",
        "            break\n",
        "    return cc"
      ]
    },
    {
      "cell_type": "code",
      "execution_count": null,
      "metadata": {
        "id": "T4VOTFui7sEl"
      },
      "outputs": [],
      "source": [
        "df_filtered[\"ISO 3166-1 Country Code\"] = alpha3code(df_filtered[\"Country\"])"
      ]
    },
    {
      "cell_type": "code",
      "execution_count": null,
      "metadata": {
        "id": "xl4QA1S5OEMt"
      },
      "outputs": [],
      "source": [
        "world = geopandas.read_file(geopandas.datasets.get_path('naturalearth_lowres'))[[\"iso_a3\", \"continent\", \"geometry\"]]\n",
        "world.columns = [\"ISO 3166-1 Country Code\", \"Continent\", \"Geometry\"]\n",
        "world.set_geometry(\"Geometry\", inplace=True)\n",
        "merge = pd.merge(world, df_filtered, on=\"ISO 3166-1 Country Code\")\n",
        "merge_ordered = merge.sort_values(by=\"Year\")"
      ]
    },
    {
      "cell_type": "code",
      "execution_count": null,
      "metadata": {
        "id": "e75LvL3QOtNc"
      },
      "outputs": [],
      "source": [
        "_, ax = plt.subplots(figsize=(10, 10))\n",
        "\n",
        "for y in merge_ordered[\"Year\"].unique():\n",
        "    world.plot(ax=ax, color=\"dimgrey\",)\n",
        "    merge_ordered[merge_ordered[\"Year\"] == y].plot(\n",
        "        ax = ax,\n",
        "        column=\"Net Weight\",\n",
        "        cmap=\"Reds\",\n",
        "        scheme=\"quantiles\",\n",
        "        edgecolor=\"black\",\n",
        "        legend=True,\n",
        "        legend_kwds={\"loc\": \"lower left\"})\n",
        "\n",
        "    plt.title(\"Net Weight - \" + str(y), fontsize=12)\n",
        "\n",
        "    ax.set_yticklabels([])\n",
        "    ax.set_xticklabels([])\n",
        "    ax.set_xticks([])\n",
        "    ax.set_yticks([])\n",
        "\n",
        "    display.display(plt.gcf())\n",
        "    display.clear_output(wait=True)\n",
        "\n",
        "    time.sleep(1)"
      ]
    },
    {
      "cell_type": "code",
      "execution_count": null,
      "metadata": {},
      "outputs": [],
      "source": []
    }
  ],
  "metadata": {
    "colab": {
      "authorship_tag": "ABX9TyPKT0EXaq+8V1o9OHjIlVMN",
      "include_colab_link": true,
      "private_outputs": true,
      "provenance": []
    },
    "kernelspec": {
      "display_name": "Python 3",
      "name": "python3"
    },
    "language_info": {
      "codemirror_mode": {
        "name": "ipython",
        "version": 3
      },
      "file_extension": ".py",
      "mimetype": "text/x-python",
      "name": "python",
      "nbconvert_exporter": "python",
      "pygments_lexer": "ipython3",
      "version": "3.11.4"
    }
  },
  "nbformat": 4,
  "nbformat_minor": 0
}
