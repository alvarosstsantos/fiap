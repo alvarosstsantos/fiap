{
 "cells": [
  {
   "cell_type": "code",
   "execution_count": null,
   "metadata": {},
   "outputs": [],
   "source": [
    "import pandas as pd\n",
    "import datetime\n",
    "import matplotlib.pyplot as plt\n",
    "import seaborn as sns\n",
    "import warnings\n",
    "\n",
    "from utils.country import alpha_3_code"
   ]
  },
  {
   "cell_type": "code",
   "execution_count": null,
   "metadata": {},
   "outputs": [],
   "source": [
    "warnings.simplefilter(action='ignore', category=FutureWarning)\n",
    "plt.style.use('dark_background')"
   ]
  },
  {
   "cell_type": "code",
   "execution_count": null,
   "metadata": {},
   "outputs": [],
   "source": [
    "df = pd.read_csv(\"./datasets/EXP_2000_2023_20230906_MENSAL.csv\",\n",
    "                 sep=\";\", decimal=\",\", thousands=\".\")"
   ]
  },
  {
   "cell_type": "code",
   "execution_count": null,
   "metadata": {},
   "outputs": [],
   "source": [
    "df.columns = ['year', 'month', 'country', 'export_uss', 'export_kg']\n",
    "df['date'] = df.apply(lambda x: datetime.datetime(x['year'], x['month'], 1) , axis=1)\n",
    "df['country_code'] = df.apply(lambda x: alpha_3_code(x['country']), axis=1)"
   ]
  },
  {
   "cell_type": "code",
   "execution_count": null,
   "metadata": {},
   "outputs": [],
   "source": [
    "def n_top_countries_by(df: pd.DataFrame, n: int, agg: str, col: str) -> list[str]:\n",
    "    return (df[[\"country\", col]]\n",
    "            .groupby([\"country\"], as_index=False)\n",
    "            .agg(agg,  numeric_only=True)\n",
    "            .sort_values(by=col, ascending=False)\n",
    "            .head(n)\n",
    "            .country\n",
    "            .to_list())\n",
    "\n",
    "\n",
    "top_10_countries_by_total_export_uss = n_top_countries_by(df, 10,\"sum\", \"export_uss\")\n",
    "top_10_countries_by_total_export_kg = n_top_countries_by(df, 10,\"sum\", \"export_kg\")"
   ]
  },
  {
   "cell_type": "code",
   "execution_count": null,
   "metadata": {},
   "outputs": [],
   "source": [
    "tmp_df = df.query('country in @top_countries_by_total_export_uss')\n",
    "sns.lineplot(data=tmp_df, x='date', y='export_uss', hue='country')"
   ]
  },
  {
   "cell_type": "code",
   "execution_count": null,
   "metadata": {},
   "outputs": [],
   "source": [
    "# quem mais compra por kilo\n",
    "# quem mais compra por dolar\n",
    "# quem mais paga pelo vinho brasileiro (dolar/kilo normalizado)\n",
    "# qual a tendencia no volume de exportacao por pais (taxa de variação)\n",
    "# qual a tendencia do volume total de exportacao em kilo\n",
    "# qual a tendencia do volume de exportacao total em dolar\n",
    "# qual a tendencia do preco do do valor do vinho brasileiro (dolar/kilo)\n",
    "# existe periodicidade do volume exportado total\n",
    "# existe periodicidade do volume exportado por país\n",
    "# qual a fracao dos maiores compradores por ano\n",
    "# quais os eventos nas series temporais: pep, russia x paraguai\n",
    "\n",
    "# variação da moeda\n",
    "# comparação com outros países do mundo\n",
    "# area plantada x volume exportado\n",
    "# eventos climaticos"
   ]
  }
 ],
 "metadata": {
  "kernelspec": {
   "display_name": "eda",
   "language": "python",
   "name": "python3"
  },
  "language_info": {
   "codemirror_mode": {
    "name": "ipython",
    "version": 3
   },
   "file_extension": ".py",
   "mimetype": "text/x-python",
   "name": "python",
   "nbconvert_exporter": "python",
   "pygments_lexer": "ipython3",
   "version": "3.11.4"
  },
  "orig_nbformat": 4
 },
 "nbformat": 4,
 "nbformat_minor": 2
}
